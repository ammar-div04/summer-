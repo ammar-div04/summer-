{
 "cells": [
  {
   "cell_type": "code",
   "execution_count": 1,
   "id": "58197e8a-1d87-463c-9d15-f262484c7bee",
   "metadata": {},
   "outputs": [
    {
     "name": "stdout",
     "output_type": "stream",
     "text": [
      "mohammaed\n"
     ]
    }
   ],
   "source": [
    "print (\"mohammaed\") \n"
   ]
  },
  {
   "cell_type": "code",
   "execution_count": null,
   "id": "13fe5a3c-e24b-49e4-a8aa-5a4d84282293",
   "metadata": {},
   "outputs": [],
   "source": []
  }
 ],
 "metadata": {
  "kernelspec": {
   "display_name": "Python [conda env:base] *",
   "language": "python",
   "name": "conda-base-py"
  },
  "language_info": {
   "codemirror_mode": {
    "name": "ipython",
    "version": 3
   },
   "file_extension": ".py",
   "mimetype": "text/x-python",
   "name": "python",
   "nbconvert_exporter": "python",
   "pygments_lexer": "ipython3",
   "version": "3.13.5"
  }
 },
 "nbformat": 4,
 "nbformat_minor": 5
}
